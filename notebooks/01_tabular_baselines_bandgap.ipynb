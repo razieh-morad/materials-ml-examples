{
 "cells": [
  {
   "cell_type": "markdown",
   "id": "0",
   "metadata": {},
   "source": [
    "## Summary of Notebook by Razieh Morad\n",
    "> **Problem:** Predict PBE band gap (eV) from composition features.  \n",
    "> **Data:** `matbench_mp_gap` (Materials Project; \\(N \\approx 10^5\\) rows).  \n",
    "> **Approach:** Composition featurization (matminer) → Ridge vs. XGBoost; splits = IID (stratified by binned gap) + OOD (hold out chosen elements).  \n",
    "> **Metrics:** MAE / RMSE / \\(R^2\\) on **test**; parity & error-by-chemistry plots.  \n",
    "> **Primary results:** \n",
    "> XGB (MAE **0.504**; R² **0.859**) beats Ridge (MAE **0.673**; R² **0.768**) on IID . Under a chemistry shift holding out {**Bi, Te**}, XGB’s MAE rises to **0.553** (≈ **+9.7%** vs IID) and R² drops to **0.654** — indicating some OOD sensitivity.\n",
    ".”\n"
   ]
  },
  {
   "cell_type": "markdown",
   "id": "1",
   "metadata": {},
   "source": [
    "# 1. Imports "
   ]
  },
  {
   "cell_type": "code",
   "execution_count": null,
   "id": "2",
   "metadata": {},
   "outputs": [],
   "source": [
    "# Repro + paths\n",
    "import os, sys, math, json, pathlib, warnings\n",
    "from pathlib import Path\n",
    "from getpass import getpass\n",
    "\n",
    "import numpy as np, pandas as pd\n",
    "import matplotlib.pyplot as plt\n",
    "import seaborn as sns\n",
    "from collections import defaultdict\n",
    "\n",
    "\n",
    "from mp_api.client import MPRester\n",
    "from pymatgen.symmetry.analyzer import SpacegroupAnalyzer\n",
    "from pymatgen.io.cif import CifWriter\n",
    "\n",
    "\n",
    "from matminer.featurizers.composition import ElementProperty, ValenceOrbital, AtomicOrbitals, IonProperty\n",
    "from matminer.featurizers.conversions import StrToComposition\n",
    "from matminer.featurizers.base import MultipleFeaturizer\n",
    "\n",
    "from matminer.datasets import load_dataset\n",
    "from pymatgen.core import Structure\n",
    "from pymatgen.core import Composition\n",
    "\n",
    "from sklearn.model_selection import train_test_split, StratifiedKFold, RandomizedSearchCV\n",
    "from sklearn.preprocessing import StandardScaler\n",
    "from sklearn.pipeline import Pipeline\n",
    "from sklearn.linear_model import Ridge\n",
    "from sklearn.metrics import mean_absolute_error, mean_squared_error, r2_score\n",
    "\n",
    "from xgboost import XGBRegressor\n",
    "\n",
    "warnings.filterwarnings(\"ignore\")\n",
    "np.random.seed(42)\n",
    "\n",
    "ROOT = Path.cwd()\n",
    "DATA = ROOT/ \"data\"\n",
    "FIGS = ROOT / \"reports\" / \"figures\"\n",
    "FIGS.mkdir(parents=True, exist_ok=True)\n"
   ]
  },
  {
   "cell_type": "markdown",
   "id": "3",
   "metadata": {},
   "source": [
    "# 2. Load datasets"
   ]
  },
  {
   "cell_type": "code",
   "execution_count": null,
   "id": "4",
   "metadata": {},
   "outputs": [],
   "source": [
    "api_key = \"VzNVmBMga05iZbWxZz3XFrV74z9ih3jE\""
   ]
  },
  {
   "cell_type": "code",
   "execution_count": null,
   "id": "5",
   "metadata": {},
   "outputs": [],
   "source": [
    "# building a clean MP “features” \n",
    "FIELDS = [\n",
    "    \"material_id\",\"formula_pretty\",\"symmetry\",\"nsites\",\"energy_per_atom\",\"volume\",\n",
    "    \"energy_above_hull\",\"total_magnetization\"\n",
    "]\n",
    "\n",
    "with MPRester(api_key) as mpr:\n",
    "    docs = mpr.materials.summary.search(\n",
    "        num_elements=[2, 4],    # range inclusive [2,4]\n",
    "        energy_above_hull=(0, 0.001),\n",
    "        fields=FIELDS\n",
    "    )\n",
    "\n",
    "records = []\n",
    "for doc in docs:\n",
    "    row = {\n",
    "        \"material_id\": doc.material_id,\n",
    "        \"formula\": doc.formula_pretty,\n",
    "        \"num_sites\": doc.nsites,\n",
    "        \"energy_per_atom\": doc.energy_per_atom,\n",
    "        \"volume\": doc.volume,\n",
    "        \"energy_above_hull\": doc.energy_above_hull,\n",
    "        \"total_magnetization\": doc.total_magnetization\n",
    "    }\n",
    "    if doc.symmetry:\n",
    "        row[\"spacegroup_number\"] = doc.symmetry.number\n",
    "        row[\"crystal_system\"] = doc.symmetry.crystal_system\n",
    "    records.append(row)\n",
    "\n",
    "mp_df_raw = pd.DataFrame(records)\n",
    "# one representative per formula: lowest E_hull, then smallest volume\n",
    "mp_df = (mp_df_raw\n",
    "         .sort_values([\"energy_above_hull\",\"volume\"], ascending=[True,True])\n",
    "         .drop_duplicates(\"formula\", keep=\"first\")\n",
    "         .reset_index(drop=True))\n",
    "print(\"One representative per formula (2–4 elements)\", len(mp_df))\n",
    "mp_df.head()\n"
   ]
  },
  {
   "cell_type": "code",
   "execution_count": null,
   "id": "6",
   "metadata": {},
   "outputs": [],
   "source": [
    "#  Standardize & union experimental band-gap datasets \n",
    "def normalize_formula(s):\n",
    "    try:\n",
    "        return Composition(str(s)).reduced_formula\n",
    "    except:  # bad rows\n",
    "        return None\n",
    "\n",
    "# ---- experimental band gap datasets 1----\n",
    "exp1 = load_dataset(\"matbench_expt_gap\")\n",
    "exp1.head(5)\n",
    "exp1=exp1.rename(columns={\"composition\": \"formula\" ,\"gap expt\" :  \"gap_expt\" })\n",
    "exp1[\"formula\"] = exp1[\"formula\"].apply(normalize_formula)\n",
    "exp1 = exp1[[\"formula\", \"gap_expt\"]]\n",
    "print(f\"Experimental #1 band gap entries:  {len(exp1)}\")\n",
    "exp2 = load_dataset(\"expt_gap\")\n",
    "exp2.head(5)\n",
    "exp2 = exp2.rename(columns={\"formula\" : \"formula\", \"gap expt\" :  \"gap_expt\"})\n",
    "exp2[\"formula\"] = exp2[\"formula\"].apply(normalize_formula)\n",
    "exp2 = exp2[[\"formula\", \"gap_expt\"]]\n",
    "print(f\"Experimental #1 band gap entries:  {len(exp2)}\")\n",
    "\n",
    "# union of experimental datasets\n",
    "expt = (pd.concat([exp1, exp2], ignore_index=True)\n",
    "          .dropna(subset=[\"formula\",\"gap_expt\"])\n",
    "          .query(\"gap_expt > 0\")\n",
    "          .drop_duplicates(\"formula\", keep=\"first\")\n",
    "          .reset_index(drop=True))\n",
    "expt.head(), expt.shape"
   ]
  },
  {
   "cell_type": "code",
   "execution_count": null,
   "id": "7",
   "metadata": {},
   "outputs": [],
   "source": [
    "# Merge MP features and experimental gaps \n",
    "df = mp_df.merge(expt, on=\"formula\", how=\"inner\").reset_index(drop=True)\n",
    "print(\"Final merged dataset:\", df.shape)\n"
   ]
  },
  {
   "cell_type": "code",
   "execution_count": null,
   "id": "8",
   "metadata": {},
   "outputs": [],
   "source": [
    "#  Quick Visualization \n",
    "sns.countplot(df['crystal_system'])"
   ]
  },
  {
   "cell_type": "markdown",
   "id": "9",
   "metadata": {},
   "source": [
    "# 3. Featurize composition"
   ]
  },
  {
   "cell_type": "code",
   "execution_count": null,
   "id": "10",
   "metadata": {},
   "outputs": [],
   "source": [
    "from matminer.featurizers.base import MultipleFeaturizer\n",
    "from matminer.featurizers.conversions import StrToComposition\n",
    "from matminer.featurizers.composition import ElementProperty, ValenceOrbital, AtomicOrbitals, IonProperty\n",
    "import numpy as np\n",
    "\n",
    "# normalized formula already; create Composition object\n",
    "tmp = pd.DataFrame({\"formula\": df[\"formula\"]})\n",
    "tmp = StrToComposition(target_col_id=\"composition_obj\").featurize_dataframe(tmp, \"formula\")\n",
    "\n",
    "featurizer = MultipleFeaturizer([\n",
    "    ElementProperty.from_preset(\"magpie\"),\n",
    "    ValenceOrbital(),\n",
    "    AtomicOrbitals(),\n",
    "    IonProperty(),\n",
    "])\n",
    "# base numerical cols\n",
    "base_cols = [\"num_sites\",\"energy_per_atom\",\"volume\",\"energy_above_hull\",\"total_magnetization\",\"spacegroup_number\"]\n",
    "\n",
    "# one-hot the crystal system (categorical)\n",
    "crystal = pd.get_dummies(df[\"crystal_system\"].astype(\"category\"), prefix=\"xtal\", dummy_na=True)\n",
    "\n",
    "# featurizing formulae\n",
    "feat = featurizer.featurize_dataframe(tmp, \"composition_obj\", ignore_errors=True)\n",
    "feat = feat.drop(columns=[\"formula\",\"composition_obj\"])\n",
    "\n",
    "# dealing with categorical features\n",
    "homo= pd.get_dummies(feat[\"HOMO_character\"].astype(\"category\"), prefix=\"homo\", dummy_na=True)\n",
    "lumo= pd.get_dummies(feat[\"LUMO_character\"].astype(\"category\"), prefix=\"lumo\", dummy_na=True)\n",
    "feat = feat.drop(columns=[\"HOMO_character\",\"LUMO_character\"])\n",
    "\n",
    "# Add Atomic Weight and Covalent Radius\n",
    "\n",
    "X = pd.concat([feat, homo,lumo, df[base_cols], crystal], axis=1)\n",
    "X = X.replace([np.inf,-np.inf], np.nan)\n",
    "X = X.fillna(X.median(numeric_only=True))\n",
    "\n",
    "# drop unwanted categorical columns \n",
    "cat = X.select_dtypes(include = ['object']).columns\n",
    "X = X.drop(cat,axis=1)\n",
    "X.dropna(axis=0)\n",
    "# X = X.drop(columns=['num_sites','volume'])\n",
    "\n",
    "y = df[\"gap_expt\"].astype(float).values\n",
    "X.shape, y.shape\n",
    "\n",
    "# Save the processed data into data folder\n",
    "\n",
    "pd.DataFrame(X,y).to_csv(\"../data/raw/band_gap_preprocessed.csv\",index=0)\n"
   ]
  },
  {
   "cell_type": "markdown",
   "id": "11",
   "metadata": {},
   "source": [
    "# 4. Proper splits + metrics"
   ]
  },
  {
   "cell_type": "code",
   "execution_count": null,
   "id": "12",
   "metadata": {},
   "outputs": [],
   "source": [
    "# IID split with stratification by binned target\n",
    "bins = pd.qcut(y, q=10, duplicates=\"drop\")\n",
    "X_train, X_test, y_train, y_test = train_test_split(\n",
    "    X, y, test_size=0.2, random_state=42, stratify=bins\n",
    ")"
   ]
  },
  {
   "cell_type": "markdown",
   "id": "13",
   "metadata": {},
   "source": [
    "# 5. Baselines: Ridge (with scaler) + XGBoost"
   ]
  },
  {
   "cell_type": "code",
   "execution_count": null,
   "id": "14",
   "metadata": {},
   "outputs": [],
   "source": [
    "# Ridge\n",
    "ridge = Pipeline([(\"scaler\", StandardScaler()), (\"model\", Ridge(alpha=1.0, random_state=42))])\n",
    "ridge.fit(X_train, y_train)\n",
    "pred_r = ridge.predict(X_test)\n",
    "\n",
    "# XGB\n",
    "xgb = XGBRegressor(\n",
    "    n_estimators=500, learning_rate=0.05, max_depth=8,\n",
    "    subsample=0.8, colsample_bytree=0.8, reg_lambda=1.0,\n",
    "    tree_method=\"hist\", random_state=42, n_jobs=-1\n",
    ")\n",
    "xgb.fit(X_train, y_train)\n",
    "pred_x = xgb.predict(X_test)\n",
    "\n",
    "def report(y_true, y_pred, name):\n",
    "    mae = mean_absolute_error(y_true, y_pred)\n",
    "    #rmse = mean_squared_error(y_true, y_pred, squared=False)\n",
    "    r2 = r2_score(y_true, y_pred)\n",
    "    print(f\"{name:6s} — MAE {mae:.3f} | R² {r2:.3f}\")\n",
    "\n",
    "report(y_test, pred_r, \"Ridge\")\n",
    "report(y_test, pred_x, \"XGB\")\n",
    "\n"
   ]
  },
  {
   "cell_type": "markdown",
   "id": "15",
   "metadata": {},
   "source": [
    "# 6. Parity + error slicing"
   ]
  },
  {
   "cell_type": "code",
   "execution_count": null,
   "id": "16",
   "metadata": {},
   "outputs": [],
   "source": [
    "import matplotlib.pyplot as plt\n",
    "import seaborn as sns\n",
    "\n",
    "def parity(y_true, y_pred, title):\n",
    "    plt.figure(figsize=(5,5))\n",
    "    lim = (0, max(y_true.max(), y_pred.max()))\n",
    "    plt.scatter(y_true, y_pred, s=6, alpha=0.5)\n",
    "    plt.plot(lim, lim, \"--\")\n",
    "    plt.xlabel(\"True band gap (eV)\"); plt.ylabel(\"Predicted (eV)\"); plt.title(title)\n",
    "    plt.xlim(lim); plt.ylim(lim); plt.tight_layout()\n",
    "    plt.savefig(f\"reports/figures/parity_{title.replace(' ','_').lower()}.png\", dpi=160)\n",
    "    plt.show()\n",
    "\n",
    "parity(y_test, pred_r, \"Ridge\")\n",
    "parity(y_test, pred_x, \"XGB\")\n",
    "\n",
    "# error by crystal system\n",
    "test_idx = X_test.index\n",
    "err = pd.DataFrame({\n",
    "    \"crystal_system\": df.loc[test_idx, \"crystal_system\"].astype(\"category\"),\n",
    "    \"abs_err\": np.abs(y_test - pred_x)\n",
    "})\n",
    "plt.figure(figsize=(6,3))\n",
    "sns.barplot(data=err, x=\"crystal_system\", y=\"abs_err\", estimator=np.mean)\n",
    "plt.xticks(rotation=30); plt.tight_layout()\n",
    "plt.savefig(\"reports/figures/err_by_xtal_xgb.png\", dpi=160)\n",
    "plt.show()\n"
   ]
  },
  {
   "cell_type": "markdown",
   "id": "17",
   "metadata": {},
   "source": [
    "# 7. OOD hold-out by elements (chemistry shift)\n",
    "> An out-of-distribution (ODD) test where you train on compounds that do not contain certain elements and then test only on compounds that do.\n",
    "It simulates cold-start chemistry (new element families) to measure how your model generalizes when the data distribution changes."
   ]
  },
  {
   "cell_type": "code",
   "execution_count": null,
   "id": "18",
   "metadata": {},
   "outputs": [],
   "source": [
    "from pymatgen.core import Composition\n",
    "\n",
    "elem_set = {\"Te\",\"Bi\"}  # adjust\n",
    "def has_any(formula, target):\n",
    "    try:\n",
    "        return any(el.symbol in target for el in Composition(formula).elements)\n",
    "    except:\n",
    "        return False\n",
    "\n",
    "mask_ood = df[\"formula\"].apply(lambda f: has_any(f, elem_set))\n",
    "X_tr, y_tr = X[~mask_ood], y[~mask_ood]\n",
    "X_ood, y_ood = X[mask_ood], y[mask_ood]\n",
    "\n",
    "xgb_ood = XGBRegressor(\n",
    "    n_estimators=500, learning_rate=0.05, max_depth=8,\n",
    "    subsample=0.8, colsample_bytree=0.8, reg_lambda=1.0,\n",
    "    tree_method=\"hist\", random_state=42, n_jobs=-1\n",
    ")\n",
    "xgb_ood.fit(X_tr, y_tr)\n",
    "pred_ood = xgb_ood.predict(X_ood)\n",
    "report(y_ood, pred_ood, f\"XGB OOD {sorted(elem_set)}\")\n"
   ]
  },
  {
   "cell_type": "markdown",
   "id": "19",
   "metadata": {},
   "source": [
    "# 8. Save artifacts"
   ]
  },
  {
   "cell_type": "code",
   "execution_count": null,
   "id": "20",
   "metadata": {},
   "outputs": [],
   "source": [
    "import joblib, os\n",
    "os.makedirs(\"models\", exist_ok=True)\n",
    "joblib.dump(xgb, \"models/xgb_expt_gap.joblib\")\n",
    "df.assign(pred_xgb_full=xgb.predict(X)).to_csv(\"../data/processed/expt_gap_features_preds.csv\", index=False)\n"
   ]
  }
 ],
 "metadata": {
  "kernelspec": {
   "display_name": "thermo-ml",
   "language": "python",
   "name": "python3"
  },
  "language_info": {
   "codemirror_mode": {
    "name": "ipython",
    "version": 3
   },
   "file_extension": ".py",
   "mimetype": "text/x-python",
   "name": "python",
   "nbconvert_exporter": "python",
   "pygments_lexer": "ipython3",
   "version": "3.11.13"
  }
 },
 "nbformat": 4,
 "nbformat_minor": 5
}
